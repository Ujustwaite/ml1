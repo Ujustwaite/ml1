{
 "cells": [
  {
   "cell_type": "markdown",
   "metadata": {},
   "source": [
    "# Laboratory 1: Examining New York City (NYC) Fire Incidents\n",
    "\n",
    "### Team Members: Chase Henderson, Aditya Garapati, Carl Walenciak, Brian Waite\n",
    "\n",
    "\n",
    "## Business Understanding\n",
    "\n",
    "### Data General Description: \n",
    "\n",
    "The Fire Department of New York City (FDNY) collects data on all incidents handled by non-EMS units including fire, medical and non-fire emergencies. This data is more broadly collected in support of the New York Fire Incident Reporting System (NYFIRS) and the National Fire Incident Reporting System (NFIRS). According to the New York City Open Data platform (https://data.cityofnewyork.us) NFIRS data was originally intended to aid in understanding the nature and causes of fire, civilian fire casualties and firefighter injuries, but has since expanded to collect information on all incidents to which fire units respond. [1]\n",
    "\n",
    "Although FDNY Incident data is available from 2013 through June, 2018, the total number of records for that period is approximately 2.5 Million and represented a challenge to computing resources available to the team. In order to limit the size of the data set, but still achieve the research objectives, the team downselected the data set to include only fire incident records from the six month period beginning 01-01-2018 at 12AM through 06-30-2018 at midnight. The resultant set contains 240,979 records with 25 original feature columns.\n",
    "\n",
    "### Data Determined Out of Scope: \n",
    "\n",
    "As indicated above, the original FDNY Incident data set contains a variety of incident types including non-fire medical emergencies, gas leaks, support to police activity and wide variety of other events. In order to deliver meaningful analytic outcomes and focus on specific challenge problems, the selected data set includes only fire-related incidents (indicated within the data set as 100-series (1XX) incidents. \n",
    "\n",
    "### Supplemental Data: \n",
    "\n",
    "In order to enable the team to ask more robust questions of interest of the primary data, we sought additional associated or relevant data to supplement our analysis. This includes: \n",
    "\n",
    "* Firebox Location Data: Each incident within the primary data set is linked to a specific firebox. New York City's unique infrastructure includes a series of over 15,000 on-street fireboxes that allow easy access to emergency services. While many of these are in varying states of repair, the FDNY uses them as geographic reference points for the dispatch of units and the records kept in the primary dataset. The team sought and identified geo-reference data to improve the utility of the firebox field in the primary data set. This was obtained from reference [2]. Although this data is somewhat dated -- last updated in 2008 -- the age of the NYC Firebox system and the immobility of the devices makes us confident that the location information is unchanged. Data for 16,284 fireboxes is listed. \n",
    "\n",
    "* Firehouse Location Data: The team also sought and identified a complete listing of the name, type, and geo-reference data of all 213 firehouses in the boroughs of NYC. [3]\n",
    "\n",
    "### Analytic Questions of Interest: \n",
    "\n",
    "Using this publicly available data set, the team has identified a number of potential analytic questions of interest that could potentially provide value to FDNY and NYC decision makers regarding the allocation of financial and personnel resources. Specific questions of interest could include: \n",
    "\n",
    "* Identification of regions of New York City where fire incidents are most likely to occur. \n",
    "* Prediction of the response time and/or total incident duration based on available features. \n",
    "* Identify trends within the data set that might indicate increased periods of risk. \n",
    "\n",
    "These insights could specifically be used to determine which fire stations should receive additional personnel or equipment resources or design staffing schedules to coincide with the most likely periods of fire related activity. \n",
    "\n",
    "Further, this analysis may help to aid in the identification of problem neighborhoods where increased inspection activity or public education campaigns could help to contribute to additional fire prevention measures being deployed in a proactive fashion by city decision makers. \n",
    "\n",
    "### Measuring Outcomes from the Data: \n",
    "\n",
    "The team believes that this data set can support a variety of analytic methodologies and provide interesting answers to the question of interest above. Techniques available will include both classification and regression based models. In order to ensure validity of results, all evaluations of data will be on a 70/30 train/test split of the data with test data being withheld for final testing and not made available for model improvement at any stage of the analysis. \n",
    "\n",
    "Below we describe our evaluative criteria for each type of model anticipated: \n",
    "\n",
    "In all cases, our models will be evaluated on whether the findings are logical and representative of reasonable outcomes given the data provided and are consistent with the exploratory data analysis. \n",
    "\n",
    "*Linear Regression:* \n",
    "\n",
    "Feature selection for inclusion in the model will likely make use of feature down-selection techniques including forward, backward, LASSO or ELASTIC-NET selection techniques with Bayesian Information Criteria, Adjusted R-Squared, and Residual Sum of Squares acting as the primary selection criteria. These criteria will also be used to evaluate the model fit in comparison to the test data set. \n",
    "\n",
    "*Classification:*\n",
    "\n",
    "Evaluation of classification models will be through the use of confusion matrix based statistics including accuracy, sensitivity and specificity. In addition, the Area Under the Curve (AUC) assessments using Receiver Operating Characteristic (ROC) curve analysis will be used to compare model performance and to evaluate the performance of any final selected model. "
   ]
  },
  {
   "cell_type": "code",
   "execution_count": 1,
   "metadata": {},
   "outputs": [
    {
     "name": "stderr",
     "output_type": "stream",
     "text": [
      "WARNING:root:Requests made without an app_token will be subject to strict throttling limits.\n"
     ]
    }
   ],
   "source": [
    "#!/usr/bin/env python\n",
    "\n",
    "# make sure to install these packages before running:\n",
    "# pip install pandas\n",
    "# pip install sodapy\n",
    "# pip install geopy\n",
    "# pip install numpy\n",
    "# pip install seaborn\n",
    "# pip install matplotlib\n",
    "\n",
    "import pandas as pd\n",
    "import seaborn as sns\n",
    "import matplotlib.pyplot as plt\n",
    "import numpy as np\n",
    "#You might need to 'pip install geopy' and it doesn't seem to work on Python 3.7\n",
    "import geopy.distance\n",
    "from sodapy import Socrata\n",
    "\n",
    "\n",
    "# Unauthenticated client only works with public data sets. Note 'None'\n",
    "# in place of application token, and no username or password:\n",
    "client = Socrata(\"data.cityofnewyork.us\", None)\n",
    "\n",
    "# Example authenticated client (needed for non-public datasets):\n",
    "# client = Socrata(data.cityofnewyork.us,\n",
    "#                  MyAppToken,\n",
    "#                  userame=\"user@example.com\",\n",
    "#                  password=\"AFakePassword\")\n",
    "\n",
    "# First 2000 results, returned as JSON from API / converted to Python list of\n",
    "# dictionaries by sodapy.\n",
    "results = client.get(\"tm6d-hbzd\", limit = 250000)#limit=300000000)\n",
    "\n",
    "# Convert to pandas DataFrame\n",
    "results_df = pd.DataFrame.from_records(results)\n",
    "\n",
    "#Get the firehouse location information\n",
    "firehouse_info = client.get(\"hc8x-tcnd\", limit=10000)\n",
    "\n",
    "firehouse_df = pd.DataFrame.from_records(firehouse_info)\n",
    "firehouse_df = firehouse_df.dropna()\n",
    "\n",
    "#Get the firebox location information\n",
    "firebox_locs = pd.read_csv(\"Fire Data\\\\Fire Boxes.csv\", names=['LONG','LAT','fire_box','nearest_intersection'])"
   ]
  },
  {
   "cell_type": "code",
   "execution_count": 2,
   "metadata": {},
   "outputs": [
    {
     "data": {
      "text/html": [
       "<div>\n",
       "<style scoped>\n",
       "    .dataframe tbody tr th:only-of-type {\n",
       "        vertical-align: middle;\n",
       "    }\n",
       "\n",
       "    .dataframe tbody tr th {\n",
       "        vertical-align: top;\n",
       "    }\n",
       "\n",
       "    .dataframe thead th {\n",
       "        text-align: right;\n",
       "    }\n",
       "</style>\n",
       "<table border=\"1\" class=\"dataframe\">\n",
       "  <thead>\n",
       "    <tr style=\"text-align: right;\">\n",
       "      <th></th>\n",
       "      <th>im_incident_key</th>\n",
       "      <th>fire_box</th>\n",
       "      <th>incident_type_desc</th>\n",
       "      <th>incident_date_time</th>\n",
       "      <th>arrival_date_time</th>\n",
       "      <th>units_onscene</th>\n",
       "      <th>last_unit_cleared_date_time</th>\n",
       "      <th>highest_level_desc</th>\n",
       "      <th>total_incident_duration</th>\n",
       "      <th>action_taken1_desc</th>\n",
       "      <th>...</th>\n",
       "      <th>zip_code</th>\n",
       "      <th>borough_desc</th>\n",
       "      <th>floor</th>\n",
       "      <th>co_detector_present_desc</th>\n",
       "      <th>story_fire_origin_count</th>\n",
       "      <th>fire_spread_desc</th>\n",
       "      <th>detector_presence_desc</th>\n",
       "      <th>aes_presence_desc</th>\n",
       "      <th>standpipe_sys_present_flag</th>\n",
       "      <th>fire_origin_below_grade_flag</th>\n",
       "    </tr>\n",
       "  </thead>\n",
       "  <tbody>\n",
       "    <tr>\n",
       "      <td>0</td>\n",
       "      <td>63476768</td>\n",
       "      <td>2928</td>\n",
       "      <td>746 - Carbon monoxide detector activation, no CO</td>\n",
       "      <td>2018-06-30T23:55:29.000</td>\n",
       "      <td>2018-07-01T00:00:32.000</td>\n",
       "      <td>2</td>\n",
       "      <td>2018-07-01T00:22:57.000</td>\n",
       "      <td>11 - First Alarm</td>\n",
       "      <td>1648</td>\n",
       "      <td>42 - HazMat detection, monitoring, sampling, &amp;...</td>\n",
       "      <td>...</td>\n",
       "      <td>10453</td>\n",
       "      <td>2 - Bronx</td>\n",
       "      <td>1</td>\n",
       "      <td>Yes</td>\n",
       "      <td>NaN</td>\n",
       "      <td>NaN</td>\n",
       "      <td>NaN</td>\n",
       "      <td>NaN</td>\n",
       "      <td>NaN</td>\n",
       "      <td>NaN</td>\n",
       "    </tr>\n",
       "    <tr>\n",
       "      <td>1</td>\n",
       "      <td>63476763</td>\n",
       "      <td>1021</td>\n",
       "      <td>300 - Rescue, EMS incident, other</td>\n",
       "      <td>2018-06-30T23:54:44.000</td>\n",
       "      <td>2018-06-30T23:58:59.000</td>\n",
       "      <td>1</td>\n",
       "      <td>2018-07-01T00:09:29.000</td>\n",
       "      <td>11 - First Alarm</td>\n",
       "      <td>885</td>\n",
       "      <td>00 - Action taken, other</td>\n",
       "      <td>...</td>\n",
       "      <td>11203</td>\n",
       "      <td>4 - Brooklyn</td>\n",
       "      <td>NaN</td>\n",
       "      <td>NaN</td>\n",
       "      <td>NaN</td>\n",
       "      <td>NaN</td>\n",
       "      <td>NaN</td>\n",
       "      <td>NaN</td>\n",
       "      <td>NaN</td>\n",
       "      <td>NaN</td>\n",
       "    </tr>\n",
       "    <tr>\n",
       "      <td>2</td>\n",
       "      <td>63476761</td>\n",
       "      <td>2745</td>\n",
       "      <td>651 - Smoke scare, odor of smoke</td>\n",
       "      <td>2018-06-30T23:54:13.000</td>\n",
       "      <td>2018-06-30T23:58:29.000</td>\n",
       "      <td>3</td>\n",
       "      <td>2018-07-01T00:07:50.000</td>\n",
       "      <td>11 - First Alarm</td>\n",
       "      <td>817</td>\n",
       "      <td>00 - Action taken, other</td>\n",
       "      <td>...</td>\n",
       "      <td>10456</td>\n",
       "      <td>2 - Bronx</td>\n",
       "      <td>NaN</td>\n",
       "      <td>NaN</td>\n",
       "      <td>NaN</td>\n",
       "      <td>NaN</td>\n",
       "      <td>NaN</td>\n",
       "      <td>NaN</td>\n",
       "      <td>NaN</td>\n",
       "      <td>NaN</td>\n",
       "    </tr>\n",
       "    <tr>\n",
       "      <td>3</td>\n",
       "      <td>63476762</td>\n",
       "      <td>2135</td>\n",
       "      <td>117 - Commercial Compactor fire, confined to r...</td>\n",
       "      <td>2018-06-30T23:54:08.000</td>\n",
       "      <td>2018-06-30T23:58:53.000</td>\n",
       "      <td>5</td>\n",
       "      <td>2018-07-01T00:19:16.000</td>\n",
       "      <td>11 - First Alarm</td>\n",
       "      <td>1508</td>\n",
       "      <td>11 - Extinguishment by fire service personnel</td>\n",
       "      <td>...</td>\n",
       "      <td>10454</td>\n",
       "      <td>2 - Bronx</td>\n",
       "      <td>basement</td>\n",
       "      <td>NaN</td>\n",
       "      <td>NaN</td>\n",
       "      <td>NaN</td>\n",
       "      <td>NaN</td>\n",
       "      <td>NaN</td>\n",
       "      <td>NaN</td>\n",
       "      <td>NaN</td>\n",
       "    </tr>\n",
       "    <tr>\n",
       "      <td>4</td>\n",
       "      <td>63476759</td>\n",
       "      <td>1877</td>\n",
       "      <td>710 - Malicious, mischievous false call, other</td>\n",
       "      <td>2018-06-30T23:53:33.000</td>\n",
       "      <td>2018-06-30T23:56:50.000</td>\n",
       "      <td>1</td>\n",
       "      <td>2018-06-30T23:57:11.000</td>\n",
       "      <td>11 - First Alarm</td>\n",
       "      <td>218</td>\n",
       "      <td>00 - Action taken, other</td>\n",
       "      <td>...</td>\n",
       "      <td>11208</td>\n",
       "      <td>4 - Brooklyn</td>\n",
       "      <td>NaN</td>\n",
       "      <td>NaN</td>\n",
       "      <td>NaN</td>\n",
       "      <td>NaN</td>\n",
       "      <td>NaN</td>\n",
       "      <td>NaN</td>\n",
       "      <td>NaN</td>\n",
       "      <td>NaN</td>\n",
       "    </tr>\n",
       "  </tbody>\n",
       "</table>\n",
       "<p>5 rows × 24 columns</p>\n",
       "</div>"
      ],
      "text/plain": [
       "  im_incident_key fire_box                                 incident_type_desc  \\\n",
       "0        63476768     2928   746 - Carbon monoxide detector activation, no CO   \n",
       "1        63476763     1021                  300 - Rescue, EMS incident, other   \n",
       "2        63476761     2745                   651 - Smoke scare, odor of smoke   \n",
       "3        63476762     2135  117 - Commercial Compactor fire, confined to r...   \n",
       "4        63476759     1877     710 - Malicious, mischievous false call, other   \n",
       "\n",
       "        incident_date_time        arrival_date_time units_onscene  \\\n",
       "0  2018-06-30T23:55:29.000  2018-07-01T00:00:32.000             2   \n",
       "1  2018-06-30T23:54:44.000  2018-06-30T23:58:59.000             1   \n",
       "2  2018-06-30T23:54:13.000  2018-06-30T23:58:29.000             3   \n",
       "3  2018-06-30T23:54:08.000  2018-06-30T23:58:53.000             5   \n",
       "4  2018-06-30T23:53:33.000  2018-06-30T23:56:50.000             1   \n",
       "\n",
       "  last_unit_cleared_date_time highest_level_desc total_incident_duration  \\\n",
       "0     2018-07-01T00:22:57.000   11 - First Alarm                    1648   \n",
       "1     2018-07-01T00:09:29.000   11 - First Alarm                     885   \n",
       "2     2018-07-01T00:07:50.000   11 - First Alarm                     817   \n",
       "3     2018-07-01T00:19:16.000   11 - First Alarm                    1508   \n",
       "4     2018-06-30T23:57:11.000   11 - First Alarm                     218   \n",
       "\n",
       "                                  action_taken1_desc  ... zip_code  \\\n",
       "0  42 - HazMat detection, monitoring, sampling, &...  ...    10453   \n",
       "1                           00 - Action taken, other  ...    11203   \n",
       "2                           00 - Action taken, other  ...    10456   \n",
       "3      11 - Extinguishment by fire service personnel  ...    10454   \n",
       "4                           00 - Action taken, other  ...    11208   \n",
       "\n",
       "   borough_desc     floor co_detector_present_desc story_fire_origin_count  \\\n",
       "0     2 - Bronx         1                      Yes                     NaN   \n",
       "1  4 - Brooklyn       NaN                      NaN                     NaN   \n",
       "2     2 - Bronx       NaN                      NaN                     NaN   \n",
       "3     2 - Bronx  basement                      NaN                     NaN   \n",
       "4  4 - Brooklyn       NaN                      NaN                     NaN   \n",
       "\n",
       "  fire_spread_desc detector_presence_desc aes_presence_desc  \\\n",
       "0              NaN                    NaN               NaN   \n",
       "1              NaN                    NaN               NaN   \n",
       "2              NaN                    NaN               NaN   \n",
       "3              NaN                    NaN               NaN   \n",
       "4              NaN                    NaN               NaN   \n",
       "\n",
       "  standpipe_sys_present_flag fire_origin_below_grade_flag  \n",
       "0                        NaN                          NaN  \n",
       "1                        NaN                          NaN  \n",
       "2                        NaN                          NaN  \n",
       "3                        NaN                          NaN  \n",
       "4                        NaN                          NaN  \n",
       "\n",
       "[5 rows x 24 columns]"
      ]
     },
     "execution_count": 2,
     "metadata": {},
     "output_type": "execute_result"
    }
   ],
   "source": [
    "results_df.head()"
   ]
  },
  {
   "cell_type": "code",
   "execution_count": 3,
   "metadata": {},
   "outputs": [],
   "source": [
    "#convert dates to date time objects\n",
    "results_df['arrival_date_time']=pd.to_datetime(results_df['arrival_date_time'])\n",
    "results_df['incident_date_time']=pd.to_datetime(results_df['incident_date_time'])\n",
    "results_df['last_unit_cleared_date_time']=pd.to_datetime(results_df['last_unit_cleared_date_time'])"
   ]
  },
  {
   "cell_type": "code",
   "execution_count": 4,
   "metadata": {},
   "outputs": [],
   "source": [
    "#Limit results to 2018\n",
    "results_df = results_df[results_df['incident_date_time'] > pd.to_datetime('2018-01-01 00:00:00')]"
   ]
  },
  {
   "cell_type": "code",
   "execution_count": 5,
   "metadata": {},
   "outputs": [],
   "source": [
    "#Convert the columns to appropriate types. Probably more to do here. \n",
    "results_df['response_time'] = (results_df['arrival_date_time'] - results_df['incident_date_time'])\n",
    "results_df['response_time'] = pd.to_numeric(results_df['response_time'])\n",
    "results_df['units_onscene'] = pd.to_numeric(results_df['units_onscene'])\n",
    "results_df['total_incident_duration'] = pd.to_numeric(results_df['total_incident_duration'])\n",
    "results_df['story_fire_origin_count'] = pd.to_numeric(results_df['story_fire_origin_count'])\n",
    "results_df['response_time'] = results_df['response_time']/ 60000000000\n",
    "\n",
    "results_df['fire_box'] = results_df['fire_box'].astype('str')\n",
    "\n",
    "#Convert firehouse values\n",
    "firehouse_df['latitude'] = pd.to_numeric(firehouse_df['latitude'])\n",
    "firehouse_df['longitude'] = pd.to_numeric(firehouse_df['longitude'])"
   ]
  },
  {
   "cell_type": "code",
   "execution_count": 6,
   "metadata": {},
   "outputs": [
    {
     "data": {
      "text/plain": [
       "array(['2 - Bronx', '4 - Brooklyn', '1 - Manhattan', '5 - Queens',\n",
       "       '3 - Staten Island'], dtype=object)"
      ]
     },
     "execution_count": 6,
     "metadata": {},
     "output_type": "execute_result"
    }
   ],
   "source": [
    "#Just to show you how we are converting the firebox to match the fire_box dataframe for merging\n",
    "results_df.borough_desc.unique()"
   ]
  },
  {
   "cell_type": "code",
   "execution_count": 7,
   "metadata": {},
   "outputs": [],
   "source": [
    "#Add the borough code to the firebox column\n",
    "results_df.loc[results_df['borough_desc'].str.match('1 - Manhattan'), 'fire_box'] = 'M' + results_df.fire_box\n",
    "results_df.loc[results_df['borough_desc'].str.match('2 - Bronx'), 'fire_box'] = 'X' + results_df.fire_box\n",
    "results_df.loc[results_df['borough_desc'].str.match('3 - Staten Island'), 'fire_box'] = 'R' + results_df.fire_box\n",
    "results_df.loc[results_df['borough_desc'].str.match('4 - Brooklyn'), 'fire_box'] = 'B' + results_df.fire_box\n",
    "results_df.loc[results_df['borough_desc'].str.match('5 - Queens'), 'fire_box'] = 'Q' + results_df.fire_box"
   ]
  },
  {
   "cell_type": "code",
   "execution_count": 8,
   "metadata": {},
   "outputs": [],
   "source": [
    "from geopy import distance\n",
    "def findNearestFirestation (Lat, Long):\n",
    "    minDistance = 1000\n",
    "    for fireLat, fireLong in zip(firehouse_df.latitude, firehouse_df.longitude):\n",
    "        distanceFire = distance.distance((Lat, Long), (fireLat,fireLong)).miles\n",
    "        if distanceFire < minDistance: \n",
    "            minDistance = distanceFire\n",
    "    return minDistance"
   ]
  },
  {
   "cell_type": "code",
   "execution_count": 9,
   "metadata": {},
   "outputs": [],
   "source": [
    "#Merge the fire_box dataframe with the overall dataframe\n",
    "final_df = pd.merge(results_df, firebox_locs, on = 'fire_box')\n",
    "final_df['LAT'] = pd.to_numeric(final_df['LAT'])\n",
    "final_df['LONG'] = pd.to_numeric(final_df['LONG'])"
   ]
  },
  {
   "cell_type": "code",
   "execution_count": 10,
   "metadata": {},
   "outputs": [],
   "source": [
    "#Get the nearest fire station\n",
    "#This code takes a long time to run because it needs to calculate the distance for each firebox to all fire stations and then select the minimum.\n",
    "#final_df['Distance_To_Nearest_Station'] = 0\n",
    "#i = 0\n",
    "#for lat, long in zip (final_df.LAT, final_df.LONG): \n",
    "#     dist = findNearestFirestation(lat,long)\n",
    "#     final_df['Distance_To_Nearest_Station'].iloc[i] = dist\n",
    "#     i = i + 1\n"
   ]
  },
  {
   "cell_type": "code",
   "execution_count": null,
   "metadata": {},
   "outputs": [],
   "source": []
  },
  {
   "cell_type": "markdown",
   "metadata": {},
   "source": [
    "Display the final dataframe. "
   ]
  },
  {
   "cell_type": "code",
   "execution_count": 11,
   "metadata": {},
   "outputs": [
    {
     "data": {
      "text/html": [
       "<div>\n",
       "<style scoped>\n",
       "    .dataframe tbody tr th:only-of-type {\n",
       "        vertical-align: middle;\n",
       "    }\n",
       "\n",
       "    .dataframe tbody tr th {\n",
       "        vertical-align: top;\n",
       "    }\n",
       "\n",
       "    .dataframe thead th {\n",
       "        text-align: right;\n",
       "    }\n",
       "</style>\n",
       "<table border=\"1\" class=\"dataframe\">\n",
       "  <thead>\n",
       "    <tr style=\"text-align: right;\">\n",
       "      <th></th>\n",
       "      <th>im_incident_key</th>\n",
       "      <th>fire_box</th>\n",
       "      <th>incident_type_desc</th>\n",
       "      <th>incident_date_time</th>\n",
       "      <th>arrival_date_time</th>\n",
       "      <th>units_onscene</th>\n",
       "      <th>last_unit_cleared_date_time</th>\n",
       "      <th>highest_level_desc</th>\n",
       "      <th>total_incident_duration</th>\n",
       "      <th>action_taken1_desc</th>\n",
       "      <th>...</th>\n",
       "      <th>story_fire_origin_count</th>\n",
       "      <th>fire_spread_desc</th>\n",
       "      <th>detector_presence_desc</th>\n",
       "      <th>aes_presence_desc</th>\n",
       "      <th>standpipe_sys_present_flag</th>\n",
       "      <th>fire_origin_below_grade_flag</th>\n",
       "      <th>response_time</th>\n",
       "      <th>LONG</th>\n",
       "      <th>LAT</th>\n",
       "      <th>nearest_intersection</th>\n",
       "    </tr>\n",
       "  </thead>\n",
       "  <tbody>\n",
       "    <tr>\n",
       "      <td>169364</td>\n",
       "      <td>62635272</td>\n",
       "      <td>B2389</td>\n",
       "      <td>522 - Water or steam leak</td>\n",
       "      <td>2018-01-08 23:06:53</td>\n",
       "      <td>2018-01-08 23:09:21</td>\n",
       "      <td>6.0</td>\n",
       "      <td>2018-01-08 23:21:58</td>\n",
       "      <td>11 - First Alarm</td>\n",
       "      <td>905.0</td>\n",
       "      <td>64 - Shut down system</td>\n",
       "      <td>...</td>\n",
       "      <td>NaN</td>\n",
       "      <td>NaN</td>\n",
       "      <td>NaN</td>\n",
       "      <td>NaN</td>\n",
       "      <td>NaN</td>\n",
       "      <td>NaN</td>\n",
       "      <td>2.466667</td>\n",
       "      <td>-73.90891</td>\n",
       "      <td>40.63002</td>\n",
       "      <td>Paerdegat Avenue N &amp; Paerdegat 6th St</td>\n",
       "    </tr>\n",
       "    <tr>\n",
       "      <td>169365</td>\n",
       "      <td>62633023</td>\n",
       "      <td>Q4639</td>\n",
       "      <td>651 - Smoke scare, odor of smoke</td>\n",
       "      <td>2018-01-08 18:17:11</td>\n",
       "      <td>2018-01-08 18:32:38</td>\n",
       "      <td>1.0</td>\n",
       "      <td>2018-01-08 18:34:04</td>\n",
       "      <td>11 - First Alarm</td>\n",
       "      <td>1013.0</td>\n",
       "      <td>00 - Action taken, other</td>\n",
       "      <td>...</td>\n",
       "      <td>NaN</td>\n",
       "      <td>NaN</td>\n",
       "      <td>NaN</td>\n",
       "      <td>NaN</td>\n",
       "      <td>NaN</td>\n",
       "      <td>NaN</td>\n",
       "      <td>15.450000</td>\n",
       "      <td>-73.80333</td>\n",
       "      <td>40.79435</td>\n",
       "      <td>Powells Cove Blvd &amp;&amp; 158th St</td>\n",
       "    </tr>\n",
       "    <tr>\n",
       "      <td>169366</td>\n",
       "      <td>62632603</td>\n",
       "      <td>R1274</td>\n",
       "      <td>522 - Water or steam leak</td>\n",
       "      <td>2018-01-08 17:37:11</td>\n",
       "      <td>2018-01-08 17:45:32</td>\n",
       "      <td>1.0</td>\n",
       "      <td>2018-01-08 17:46:12</td>\n",
       "      <td>11 - First Alarm</td>\n",
       "      <td>541.0</td>\n",
       "      <td>64 - Shut down system</td>\n",
       "      <td>...</td>\n",
       "      <td>NaN</td>\n",
       "      <td>NaN</td>\n",
       "      <td>NaN</td>\n",
       "      <td>NaN</td>\n",
       "      <td>NaN</td>\n",
       "      <td>NaN</td>\n",
       "      <td>8.350000</td>\n",
       "      <td>-74.07710</td>\n",
       "      <td>40.59980</td>\n",
       "      <td>Steuben St &amp; Radcliff Rd</td>\n",
       "    </tr>\n",
       "    <tr>\n",
       "      <td>169367</td>\n",
       "      <td>62631948</td>\n",
       "      <td>Q9307</td>\n",
       "      <td>522 - Water or steam leak</td>\n",
       "      <td>2018-01-08 16:30:19</td>\n",
       "      <td>2018-01-08 16:52:03</td>\n",
       "      <td>1.0</td>\n",
       "      <td>2018-01-08 17:12:55</td>\n",
       "      <td>11 - First Alarm</td>\n",
       "      <td>2556.0</td>\n",
       "      <td>64 - Shut down system</td>\n",
       "      <td>...</td>\n",
       "      <td>NaN</td>\n",
       "      <td>NaN</td>\n",
       "      <td>NaN</td>\n",
       "      <td>NaN</td>\n",
       "      <td>NaN</td>\n",
       "      <td>NaN</td>\n",
       "      <td>21.733333</td>\n",
       "      <td>-73.84578</td>\n",
       "      <td>40.76053</td>\n",
       "      <td>Northern Blvd &amp;&amp; 126th St</td>\n",
       "    </tr>\n",
       "    <tr>\n",
       "      <td>169368</td>\n",
       "      <td>62630152</td>\n",
       "      <td>Q9307</td>\n",
       "      <td>522 - Water or steam leak</td>\n",
       "      <td>2018-01-08 13:19:51</td>\n",
       "      <td>2018-01-08 13:28:28</td>\n",
       "      <td>1.0</td>\n",
       "      <td>2018-01-08 14:10:19</td>\n",
       "      <td>11 - First Alarm</td>\n",
       "      <td>3028.0</td>\n",
       "      <td>64 - Shut down system</td>\n",
       "      <td>...</td>\n",
       "      <td>NaN</td>\n",
       "      <td>NaN</td>\n",
       "      <td>NaN</td>\n",
       "      <td>NaN</td>\n",
       "      <td>NaN</td>\n",
       "      <td>NaN</td>\n",
       "      <td>8.616667</td>\n",
       "      <td>-73.84578</td>\n",
       "      <td>40.76053</td>\n",
       "      <td>Northern Blvd &amp;&amp; 126th St</td>\n",
       "    </tr>\n",
       "    <tr>\n",
       "      <td>...</td>\n",
       "      <td>...</td>\n",
       "      <td>...</td>\n",
       "      <td>...</td>\n",
       "      <td>...</td>\n",
       "      <td>...</td>\n",
       "      <td>...</td>\n",
       "      <td>...</td>\n",
       "      <td>...</td>\n",
       "      <td>...</td>\n",
       "      <td>...</td>\n",
       "      <td>...</td>\n",
       "      <td>...</td>\n",
       "      <td>...</td>\n",
       "      <td>...</td>\n",
       "      <td>...</td>\n",
       "      <td>...</td>\n",
       "      <td>...</td>\n",
       "      <td>...</td>\n",
       "      <td>...</td>\n",
       "      <td>...</td>\n",
       "      <td>...</td>\n",
       "    </tr>\n",
       "    <tr>\n",
       "      <td>169459</td>\n",
       "      <td>62581297</td>\n",
       "      <td>X4349</td>\n",
       "      <td>300 - Rescue, EMS incident, other</td>\n",
       "      <td>2018-01-01 09:28:37</td>\n",
       "      <td>2018-01-01 10:00:58</td>\n",
       "      <td>1.0</td>\n",
       "      <td>2018-01-01 10:38:36</td>\n",
       "      <td>1 - More than initial alarm, less than Signal 7-5</td>\n",
       "      <td>4199.0</td>\n",
       "      <td>00 - Action taken, other</td>\n",
       "      <td>...</td>\n",
       "      <td>NaN</td>\n",
       "      <td>NaN</td>\n",
       "      <td>NaN</td>\n",
       "      <td>NaN</td>\n",
       "      <td>NaN</td>\n",
       "      <td>NaN</td>\n",
       "      <td>32.350000</td>\n",
       "      <td>-73.83629</td>\n",
       "      <td>40.86070</td>\n",
       "      <td>Waring Ave &amp; Gunther Ave</td>\n",
       "    </tr>\n",
       "    <tr>\n",
       "      <td>169460</td>\n",
       "      <td>62581241</td>\n",
       "      <td>Q6320</td>\n",
       "      <td>300 - Rescue, EMS incident, other</td>\n",
       "      <td>2018-01-01 09:18:00</td>\n",
       "      <td>2018-01-01 09:24:18</td>\n",
       "      <td>1.0</td>\n",
       "      <td>2018-01-01 09:29:24</td>\n",
       "      <td>1 - More than initial alarm, less than Signal 7-5</td>\n",
       "      <td>684.0</td>\n",
       "      <td>00 - Action taken, other</td>\n",
       "      <td>...</td>\n",
       "      <td>NaN</td>\n",
       "      <td>NaN</td>\n",
       "      <td>NaN</td>\n",
       "      <td>NaN</td>\n",
       "      <td>NaN</td>\n",
       "      <td>NaN</td>\n",
       "      <td>6.300000</td>\n",
       "      <td>-73.79196</td>\n",
       "      <td>40.75696</td>\n",
       "      <td>189th St &amp;&amp; 43 Rd</td>\n",
       "    </tr>\n",
       "    <tr>\n",
       "      <td>169461</td>\n",
       "      <td>62581161</td>\n",
       "      <td>Q9711</td>\n",
       "      <td>522 - Water or steam leak</td>\n",
       "      <td>2018-01-01 09:03:51</td>\n",
       "      <td>2018-01-01 09:09:05</td>\n",
       "      <td>1.0</td>\n",
       "      <td>2018-01-01 09:22:17</td>\n",
       "      <td>1 - More than initial alarm, less than Signal 7-5</td>\n",
       "      <td>1106.0</td>\n",
       "      <td>64 - Shut down system</td>\n",
       "      <td>...</td>\n",
       "      <td>NaN</td>\n",
       "      <td>NaN</td>\n",
       "      <td>NaN</td>\n",
       "      <td>NaN</td>\n",
       "      <td>NaN</td>\n",
       "      <td>NaN</td>\n",
       "      <td>5.233333</td>\n",
       "      <td>-73.78770</td>\n",
       "      <td>40.72983</td>\n",
       "      <td>75th Ave &amp;&amp; 182nd St</td>\n",
       "    </tr>\n",
       "    <tr>\n",
       "      <td>169462</td>\n",
       "      <td>62580911</td>\n",
       "      <td>Q6539</td>\n",
       "      <td>300 - Rescue, EMS incident, other</td>\n",
       "      <td>2018-01-01 07:32:35</td>\n",
       "      <td>2018-01-01 07:37:35</td>\n",
       "      <td>1.0</td>\n",
       "      <td>2018-01-01 08:38:36</td>\n",
       "      <td>1 - More than initial alarm, less than Signal 7-5</td>\n",
       "      <td>3961.0</td>\n",
       "      <td>00 - Action taken, other</td>\n",
       "      <td>...</td>\n",
       "      <td>NaN</td>\n",
       "      <td>NaN</td>\n",
       "      <td>NaN</td>\n",
       "      <td>NaN</td>\n",
       "      <td>NaN</td>\n",
       "      <td>NaN</td>\n",
       "      <td>5.000000</td>\n",
       "      <td>-73.79976</td>\n",
       "      <td>40.72155</td>\n",
       "      <td>81st Ave &amp;&amp; 168th St</td>\n",
       "    </tr>\n",
       "    <tr>\n",
       "      <td>169463</td>\n",
       "      <td>62579574</td>\n",
       "      <td>B1346</td>\n",
       "      <td>300 - Rescue, EMS incident, other</td>\n",
       "      <td>2018-01-01 01:48:34</td>\n",
       "      <td>2018-01-01 01:52:54</td>\n",
       "      <td>1.0</td>\n",
       "      <td>2018-01-01 02:04:54</td>\n",
       "      <td>1 - More than initial alarm, less than Signal 7-5</td>\n",
       "      <td>980.0</td>\n",
       "      <td>00 - Action taken, other</td>\n",
       "      <td>...</td>\n",
       "      <td>NaN</td>\n",
       "      <td>NaN</td>\n",
       "      <td>NaN</td>\n",
       "      <td>NaN</td>\n",
       "      <td>NaN</td>\n",
       "      <td>NaN</td>\n",
       "      <td>4.333333</td>\n",
       "      <td>-73.99460</td>\n",
       "      <td>40.67656</td>\n",
       "      <td>Hoyt St &amp; 5th St</td>\n",
       "    </tr>\n",
       "  </tbody>\n",
       "</table>\n",
       "<p>100 rows × 28 columns</p>\n",
       "</div>"
      ],
      "text/plain": [
       "       im_incident_key fire_box                 incident_type_desc  \\\n",
       "169364        62635272    B2389          522 - Water or steam leak   \n",
       "169365        62633023    Q4639   651 - Smoke scare, odor of smoke   \n",
       "169366        62632603    R1274          522 - Water or steam leak   \n",
       "169367        62631948    Q9307          522 - Water or steam leak   \n",
       "169368        62630152    Q9307          522 - Water or steam leak   \n",
       "...                ...      ...                                ...   \n",
       "169459        62581297    X4349  300 - Rescue, EMS incident, other   \n",
       "169460        62581241    Q6320  300 - Rescue, EMS incident, other   \n",
       "169461        62581161    Q9711          522 - Water or steam leak   \n",
       "169462        62580911    Q6539  300 - Rescue, EMS incident, other   \n",
       "169463        62579574    B1346  300 - Rescue, EMS incident, other   \n",
       "\n",
       "        incident_date_time   arrival_date_time  units_onscene  \\\n",
       "169364 2018-01-08 23:06:53 2018-01-08 23:09:21            6.0   \n",
       "169365 2018-01-08 18:17:11 2018-01-08 18:32:38            1.0   \n",
       "169366 2018-01-08 17:37:11 2018-01-08 17:45:32            1.0   \n",
       "169367 2018-01-08 16:30:19 2018-01-08 16:52:03            1.0   \n",
       "169368 2018-01-08 13:19:51 2018-01-08 13:28:28            1.0   \n",
       "...                    ...                 ...            ...   \n",
       "169459 2018-01-01 09:28:37 2018-01-01 10:00:58            1.0   \n",
       "169460 2018-01-01 09:18:00 2018-01-01 09:24:18            1.0   \n",
       "169461 2018-01-01 09:03:51 2018-01-01 09:09:05            1.0   \n",
       "169462 2018-01-01 07:32:35 2018-01-01 07:37:35            1.0   \n",
       "169463 2018-01-01 01:48:34 2018-01-01 01:52:54            1.0   \n",
       "\n",
       "       last_unit_cleared_date_time  \\\n",
       "169364         2018-01-08 23:21:58   \n",
       "169365         2018-01-08 18:34:04   \n",
       "169366         2018-01-08 17:46:12   \n",
       "169367         2018-01-08 17:12:55   \n",
       "169368         2018-01-08 14:10:19   \n",
       "...                            ...   \n",
       "169459         2018-01-01 10:38:36   \n",
       "169460         2018-01-01 09:29:24   \n",
       "169461         2018-01-01 09:22:17   \n",
       "169462         2018-01-01 08:38:36   \n",
       "169463         2018-01-01 02:04:54   \n",
       "\n",
       "                                       highest_level_desc  \\\n",
       "169364                                   11 - First Alarm   \n",
       "169365                                   11 - First Alarm   \n",
       "169366                                   11 - First Alarm   \n",
       "169367                                   11 - First Alarm   \n",
       "169368                                   11 - First Alarm   \n",
       "...                                                   ...   \n",
       "169459  1 - More than initial alarm, less than Signal 7-5   \n",
       "169460  1 - More than initial alarm, less than Signal 7-5   \n",
       "169461  1 - More than initial alarm, less than Signal 7-5   \n",
       "169462  1 - More than initial alarm, less than Signal 7-5   \n",
       "169463  1 - More than initial alarm, less than Signal 7-5   \n",
       "\n",
       "        total_incident_duration        action_taken1_desc  ...  \\\n",
       "169364                    905.0     64 - Shut down system  ...   \n",
       "169365                   1013.0  00 - Action taken, other  ...   \n",
       "169366                    541.0     64 - Shut down system  ...   \n",
       "169367                   2556.0     64 - Shut down system  ...   \n",
       "169368                   3028.0     64 - Shut down system  ...   \n",
       "...                         ...                       ...  ...   \n",
       "169459                   4199.0  00 - Action taken, other  ...   \n",
       "169460                    684.0  00 - Action taken, other  ...   \n",
       "169461                   1106.0     64 - Shut down system  ...   \n",
       "169462                   3961.0  00 - Action taken, other  ...   \n",
       "169463                    980.0  00 - Action taken, other  ...   \n",
       "\n",
       "       story_fire_origin_count fire_spread_desc detector_presence_desc  \\\n",
       "169364                     NaN              NaN                    NaN   \n",
       "169365                     NaN              NaN                    NaN   \n",
       "169366                     NaN              NaN                    NaN   \n",
       "169367                     NaN              NaN                    NaN   \n",
       "169368                     NaN              NaN                    NaN   \n",
       "...                        ...              ...                    ...   \n",
       "169459                     NaN              NaN                    NaN   \n",
       "169460                     NaN              NaN                    NaN   \n",
       "169461                     NaN              NaN                    NaN   \n",
       "169462                     NaN              NaN                    NaN   \n",
       "169463                     NaN              NaN                    NaN   \n",
       "\n",
       "       aes_presence_desc standpipe_sys_present_flag  \\\n",
       "169364               NaN                        NaN   \n",
       "169365               NaN                        NaN   \n",
       "169366               NaN                        NaN   \n",
       "169367               NaN                        NaN   \n",
       "169368               NaN                        NaN   \n",
       "...                  ...                        ...   \n",
       "169459               NaN                        NaN   \n",
       "169460               NaN                        NaN   \n",
       "169461               NaN                        NaN   \n",
       "169462               NaN                        NaN   \n",
       "169463               NaN                        NaN   \n",
       "\n",
       "       fire_origin_below_grade_flag response_time      LONG       LAT  \\\n",
       "169364                          NaN      2.466667 -73.90891  40.63002   \n",
       "169365                          NaN     15.450000 -73.80333  40.79435   \n",
       "169366                          NaN      8.350000 -74.07710  40.59980   \n",
       "169367                          NaN     21.733333 -73.84578  40.76053   \n",
       "169368                          NaN      8.616667 -73.84578  40.76053   \n",
       "...                             ...           ...       ...       ...   \n",
       "169459                          NaN     32.350000 -73.83629  40.86070   \n",
       "169460                          NaN      6.300000 -73.79196  40.75696   \n",
       "169461                          NaN      5.233333 -73.78770  40.72983   \n",
       "169462                          NaN      5.000000 -73.79976  40.72155   \n",
       "169463                          NaN      4.333333 -73.99460  40.67656   \n",
       "\n",
       "                         nearest_intersection  \n",
       "169364  Paerdegat Avenue N & Paerdegat 6th St  \n",
       "169365          Powells Cove Blvd && 158th St  \n",
       "169366               Steuben St & Radcliff Rd  \n",
       "169367              Northern Blvd && 126th St  \n",
       "169368              Northern Blvd && 126th St  \n",
       "...                                       ...  \n",
       "169459               Waring Ave & Gunther Ave  \n",
       "169460                      189th St && 43 Rd  \n",
       "169461                   75th Ave && 182nd St  \n",
       "169462                   81st Ave && 168th St  \n",
       "169463                       Hoyt St & 5th St  \n",
       "\n",
       "[100 rows x 28 columns]"
      ]
     },
     "execution_count": 11,
     "metadata": {},
     "output_type": "execute_result"
    }
   ],
   "source": [
    "final_df.tail(100)"
   ]
  },
  {
   "cell_type": "markdown",
   "metadata": {},
   "source": [
    "**AS we can see below , StatenIsland  has  very  less incidents compared to other buroughs, this makes sense as Staten Island is the Least populated Buroughs out of all the Burougs** "
   ]
  },
  {
   "cell_type": "code",
   "execution_count": 12,
   "metadata": {},
   "outputs": [],
   "source": [
    "def groupByBurough (df):\n",
    "    grouped = df.groupby('borough_desc')\n",
    "    for name,group in df.groupby('borough_desc'):\n",
    "        print('Incidents in Burough' + name , group.shape[0])\n",
    "    \n",
    "    return grouped.borough_desc.count()\n",
    "    "
   ]
  },
  {
   "cell_type": "code",
   "execution_count": 13,
   "metadata": {},
   "outputs": [
    {
     "name": "stdout",
     "output_type": "stream",
     "text": [
      "Incidents in Burough1 - Manhattan 26836\n",
      "Incidents in Burough2 - Bronx 45462\n",
      "Incidents in Burough3 - Staten Island 5269\n",
      "Incidents in Burough4 - Brooklyn 45959\n",
      "Incidents in Burough5 - Queens 45938\n"
     ]
    },
    {
     "data": {
      "text/plain": [
       "borough_desc\n",
       "1 - Manhattan        26836\n",
       "2 - Bronx            45462\n",
       "3 - Staten Island     5269\n",
       "4 - Brooklyn         45959\n",
       "5 - Queens           45938\n",
       "Name: borough_desc, dtype: int64"
      ]
     },
     "execution_count": 13,
     "metadata": {},
     "output_type": "execute_result"
    }
   ],
   "source": [
    "groupByBurough(final_df)"
   ]
  },
  {
   "cell_type": "markdown",
   "metadata": {},
   "source": [
    "## References: \n",
    "\n",
    "[1] @ELECTRONIC{firedata,\n",
    "  author = {Fire Department of New York City (FDNY)},\n",
    "  year = {2019},\n",
    "  title = {Incidents Responded to by Fire Companies},\n",
    "  language = {English},\n",
    "  howpublished = {\\url=https://data.cityofnewyork.us/Public-Safety/Incidents-Responded-to-by-Fire-Companies/tm6d-hbzd},\n",
    "  owner = {NYC Open Data},\n",
    "  timestamp = {2019.03.21}\n",
    "}\n",
    "\n",
    "[2] @ELECTRONIC{fireboxdata,\n",
    "  author = {www.poi-factory.com)},\n",
    "  year = {2008},\n",
    "  title = {FDNY Firebox Locator Data},\n",
    "  language = {English},\n",
    "  howpublished = {\\url=http://www.poi-factory.com/node/11074},\n",
    "  owner = {POI Factory},\n",
    "  timestamp = {2008.02.26}\n",
    "}\n",
    "\n",
    "[3] @ELECTRONIC{firehousedata,\n",
    "  author = {Fire Department of New York City (FDNY))},\n",
    "  year = {2018},\n",
    "  title = {FDNY Firehouse Listing},\n",
    "  language = {English},\n",
    "  howpublished = {\\url=https://data.cityofnewyork.us/Public-Safety/FDNY-Firehouse-Listing/hc8x-tcnd},\n",
    "  owner = {NYC Open Data},\n",
    "  timestamp = {2018.09.10}\n",
    "}"
   ]
  },
  {
   "cell_type": "code",
   "execution_count": 14,
   "metadata": {},
   "outputs": [
    {
     "data": {
      "text/plain": [
       "(240979, 25)"
      ]
     },
     "execution_count": 14,
     "metadata": {},
     "output_type": "execute_result"
    }
   ],
   "source": [
    "results_df.shape"
   ]
  },
  {
   "cell_type": "code",
   "execution_count": 15,
   "metadata": {},
   "outputs": [
    {
     "data": {
      "text/plain": [
       "Timestamp('2018-06-30 23:55:29')"
      ]
     },
     "execution_count": 15,
     "metadata": {},
     "output_type": "execute_result"
    }
   ],
   "source": [
    "results_df.incident_date_time.max()"
   ]
  },
  {
   "cell_type": "code",
   "execution_count": 16,
   "metadata": {},
   "outputs": [
    {
     "data": {
      "text/plain": [
       "(213, 12)"
      ]
     },
     "execution_count": 16,
     "metadata": {},
     "output_type": "execute_result"
    }
   ],
   "source": [
    "firehouse_df.shape"
   ]
  },
  {
   "cell_type": "code",
   "execution_count": 17,
   "metadata": {},
   "outputs": [
    {
     "data": {
      "text/plain": [
       "(16284, 4)"
      ]
     },
     "execution_count": 17,
     "metadata": {},
     "output_type": "execute_result"
    }
   ],
   "source": [
    "firebox_locs.shape"
   ]
  },
  {
   "cell_type": "code",
   "execution_count": 18,
   "metadata": {},
   "outputs": [],
   "source": [
    "#Uncomment to save the fire data when you are creating from scratch\n",
    "#final_df.to_pickle('Fire Data/fireData.pkl')"
   ]
  },
  {
   "cell_type": "code",
   "execution_count": 19,
   "metadata": {},
   "outputs": [],
   "source": [
    "final_df  = pd.read_pickle('Fire Data/fireData.pkl')"
   ]
  },
  {
   "cell_type": "markdown",
   "metadata": {},
   "source": [
    "## This is Aditya's Code"
   ]
  },
  {
   "cell_type": "code",
   "execution_count": 30,
   "metadata": {},
   "outputs": [],
   "source": [
    "##Begin Aditya's Code\n",
    "\n",
    "def groupByBurough_dwelling (df):\n",
    "   grouped = df.groupby('borough_desc')\n",
    "   for name,group in df.groupby('borough_desc'):\n",
    "               plt.figure(name)\n",
    "               sns.countplot(y=\"property_use_desc\",data=group,order=group.property_use_desc.value_counts().iloc[:5].index).set_title(name)\n",
    "   return\n",
    "\n",
    "from datetime import datetime\n",
    "\n",
    "def groupByBurough_callTime (df):\n",
    "   for name,group in df.groupby('borough_desc'):\n",
    "       print(name)\n",
    "       df2=group.set_index('arrival_date_time')\n",
    "       ts_df=df2.loc[df2.index.notnull()]\n",
    "       ts_df.index = pd.to_datetime(ts_df.index)\n",
    "       ts_df['hour_of_call'] = ts_df.index.hour\n",
    "       plt.figure(name)\n",
    "       sns.countplot(x=\"hour_of_call\",data=ts_df).set_title(name)\n",
    "   return"
   ]
  },
  {
   "cell_type": "code",
   "execution_count": 32,
   "metadata": {},
   "outputs": [
    {
     "data": {
      "image/png": "[encoded data removed]",
      "text/plain": [
       "<Figure size 432x288 with 1 Axes>"
      ]
     },
     "metadata": {
      "needs_background": "light"
     },
     "output_type": "display_data"
    },
    {
     "data": {
      "image/png": "[encoded data removed]",
      "text/plain": [
       "<Figure size 432x288 with 1 Axes>"
      ]
     },
     "metadata": {
      "needs_background": "light"
     },
     "output_type": "display_data"
    },
    {
     "data": {
      "image/png": "[encoded data removed]",
      "text/plain": [
       "<Figure size 432x288 with 1 Axes>"
      ]
     },
     "metadata": {
      "needs_background": "light"
     },
     "output_type": "display_data"
    },
    {
     "data": {
      "image/png": "[encoded data removed]",
      "text/plain": [
       "<Figure size 432x288 with 1 Axes>"
      ]
     },
     "metadata": {
      "needs_background": "light"
     },
     "output_type": "display_data"
    },
    {
     "data": {
      "image/png": "[encoded data removed]",
      "text/plain": [
       "<Figure size 432x288 with 1 Axes>"
      ]
     },
     "metadata": {
      "needs_background": "light"
     },
     "output_type": "display_data"
    }
   ],
   "source": [
    "## Call Aditya's functions\n",
    "groupByBurough_dwelling(final_df)\n"
   ]
  },
  {
   "cell_type": "code",
   "execution_count": 34,
   "metadata": {},
   "outputs": [
    {
     "name": "stdout",
     "output_type": "stream",
     "text": [
      "1 - Manhattan\n",
      "2 - Bronx\n"
     ]
    },
    {
     "name": "stderr",
     "output_type": "stream",
     "text": [
      "C:\\Users\\Brian\\Anaconda3\\envs\\Python3_6\\lib\\site-packages\\ipykernel_launcher.py:18: SettingWithCopyWarning: \n",
      "A value is trying to be set on a copy of a slice from a DataFrame.\n",
      "Try using .loc[row_indexer,col_indexer] = value instead\n",
      "\n",
      "See the caveats in the documentation: http://pandas.pydata.org/pandas-docs/stable/user_guide/indexing.html#returning-a-view-versus-a-copy\n"
     ]
    },
    {
     "name": "stdout",
     "output_type": "stream",
     "text": [
      "3 - Staten Island\n",
      "4 - Brooklyn\n",
      "5 - Queens\n"
     ]
    },
    {
     "data": {
      "image/png": "[encoded data removed]",
      "text/plain": [
       "<Figure size 432x288 with 1 Axes>"
      ]
     },
     "metadata": {
      "needs_background": "light"
     },
     "output_type": "display_data"
    },
    {
     "data": {
      "image/png": "[encoded data removed]",
      "text/plain": [
       "<Figure size 432x288 with 1 Axes>"
      ]
     },
     "metadata": {
      "needs_background": "light"
     },
     "output_type": "display_data"
    },
    {
     "data": {
      "image/png": "[encoded data removed]",
      "text/plain": [
       "<Figure size 432x288 with 1 Axes>"
      ]
     },
     "metadata": {
      "needs_background": "light"
     },
     "output_type": "display_data"
    },
    {
     "data": {
      "image/png": "[encoded data removed]",
      "text/plain": [
       "<Figure size 432x288 with 1 Axes>"
      ]
     },
     "metadata": {
      "needs_background": "light"
     },
     "output_type": "display_data"
    },
    {
     "data": {
      "image/png": "[encoded data removed]",
      "text/plain": [
       "<Figure size 432x288 with 1 Axes>"
      ]
     },
     "metadata": {
      "needs_background": "light"
     },
     "output_type": "display_data"
    }
   ],
   "source": [
    "groupByBurough_callTime(final_df)"
   ]
  },
  {
   "cell_type": "code",
   "execution_count": null,
   "metadata": {},
   "outputs": [],
   "source": []
  },
  {
   "cell_type": "code",
   "execution_count": null,
   "metadata": {},
   "outputs": [],
   "source": []
  },
  {
   "cell_type": "code",
   "execution_count": null,
   "metadata": {},
   "outputs": [],
   "source": []
  }
 ],
 "metadata": {
  "kernelspec": {
   "display_name": "Python 3",
   "language": "python",
   "name": "python3"
  },
  "language_info": {
   "codemirror_mode": {
    "name": "ipython",
    "version": 3
   },
   "file_extension": ".py",
   "mimetype": "text/x-python",
   "name": "python",
   "nbconvert_exporter": "python",
   "pygments_lexer": "ipython3",
   "version": "3.6.9"
  }
 },
 "nbformat": 4,
 "nbformat_minor": 2
}
